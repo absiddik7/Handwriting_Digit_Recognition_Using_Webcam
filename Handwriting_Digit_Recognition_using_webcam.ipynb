{
  "nbformat": 4,
  "nbformat_minor": 0,
  "metadata": {
    "colab": {
      "name": "Handwriting Digit Recognition using webcam.ipynb",
      "provenance": [],
      "collapsed_sections": [],
      "authorship_tag": "ABX9TyMatHjFNJy0xJhSpHpysPq+"
    },
    "kernelspec": {
      "name": "python3",
      "display_name": "Python 3"
    },
    "language_info": {
      "name": "python"
    }
  },
  "cells": [
    {
      "cell_type": "code",
      "execution_count": null,
      "metadata": {
        "id": "SGqPAoIvDkhI"
      },
      "outputs": [],
      "source": [
        "import pandas as pd\n",
        " import numpy as np\n",
        " import matplotlib.pyplot as plt\n",
        " import seaborn as sns\n",
        " import tensorflow as tf\n",
        " from tensorflow import keras\n",
        " from keras.models import Sequential\n",
        " from keras.layers import Dense\n",
        " from keras.layers import Flatten\n",
        " from keras.datasets import mnist\n",
        " from PIL import Image\n",
        " import cv2"
      ]
    },
    {
      "cell_type": "markdown",
      "source": [
        "#Importing Dataset and preprossing"
      ],
      "metadata": {
        "id": "OHluq1WlYlqi"
      }
    },
    {
      "cell_type": "code",
      "source": [
        "(X_train, y_train), (X_test, y_test) = mnist.load_data()"
      ],
      "metadata": {
        "id": "v06xwQk6X9FN"
      },
      "execution_count": null,
      "outputs": []
    },
    {
      "cell_type": "code",
      "source": [
        "X_train.shape, y_train.shape, X_test.shape, y_test.shape"
      ],
      "metadata": {
        "colab": {
          "base_uri": "https://localhost:8080/"
        },
        "id": "m0xBlQHNX_rj",
        "outputId": "82b3c928-0dc5-45c6-eb5d-7ea74e70a227"
      },
      "execution_count": null,
      "outputs": [
        {
          "output_type": "execute_result",
          "data": {
            "text/plain": [
              "((60000, 28, 28), (60000,), (10000, 28, 28), (10000,))"
            ]
          },
          "metadata": {},
          "execution_count": 121
        }
      ]
    },
    {
      "cell_type": "markdown",
      "source": [
        "##Plot a image"
      ],
      "metadata": {
        "id": "mu3inWuTZQac"
      }
    },
    {
      "cell_type": "code",
      "source": [
        "plt.imshow(X_train[0])"
      ],
      "metadata": {
        "colab": {
          "base_uri": "https://localhost:8080/",
          "height": 283
        },
        "id": "cVM4wPkTX_br",
        "outputId": "7f260a81-d17d-492c-88e9-67586158bbec"
      },
      "execution_count": null,
      "outputs": [
        {
          "output_type": "execute_result",
          "data": {
            "text/plain": [
              "<matplotlib.image.AxesImage at 0x7fcdb3cd2a90>"
            ]
          },
          "metadata": {},
          "execution_count": 122
        },
        {
          "output_type": "display_data",
          "data": {
            "text/plain": [
              "<Figure size 432x288 with 1 Axes>"
            ],
            "image/png": "[encoded data removed]"
          },
          "metadata": {
            "needs_background": "light"
          }
        }
      ]
    },
    {
      "cell_type": "code",
      "source": [
        "y_train"
      ],
      "metadata": {
        "colab": {
          "base_uri": "https://localhost:8080/"
        },
        "id": "Mw1UkJNKX_Al",
        "outputId": "3ddddb9f-02ba-47d1-81b7-89e353b405c9"
      },
      "execution_count": null,
      "outputs": [
        {
          "output_type": "execute_result",
          "data": {
            "text/plain": [
              "array([5, 0, 4, ..., 5, 6, 8], dtype=uint8)"
            ]
          },
          "metadata": {},
          "execution_count": 123
        }
      ]
    },
    {
      "cell_type": "code",
      "source": [
        "np.unique(y_train)"
      ],
      "metadata": {
        "colab": {
          "base_uri": "https://localhost:8080/"
        },
        "id": "QGGGAj4AZtho",
        "outputId": "939058c3-718c-4249-cb09-99c543e084d3"
      },
      "execution_count": null,
      "outputs": [
        {
          "output_type": "execute_result",
          "data": {
            "text/plain": [
              "array([0, 1, 2, 3, 4, 5, 6, 7, 8, 9], dtype=uint8)"
            ]
          },
          "metadata": {},
          "execution_count": 124
        }
      ]
    },
    {
      "cell_type": "code",
      "source": [
        "X_train[0].shape"
      ],
      "metadata": {
        "colab": {
          "base_uri": "https://localhost:8080/"
        },
        "id": "EBsPPV4EZy5F",
        "outputId": "4319f718-f35e-493a-9617-7a426ab79180"
      },
      "execution_count": null,
      "outputs": [
        {
          "output_type": "execute_result",
          "data": {
            "text/plain": [
              "(28, 28)"
            ]
          },
          "metadata": {},
          "execution_count": 125
        }
      ]
    },
    {
      "cell_type": "markdown",
      "source": [
        "#Model"
      ],
      "metadata": {
        "id": "UVBInb9X1dmV"
      }
    },
    {
      "cell_type": "code",
      "source": [
        "model = Sequential()\n",
        "\n",
        "model.add(Flatten(input_shape=(28,28)))\n",
        "model.add(Dense(100,activation='relu'))\n",
        "model.add(Dense(100,activation='relu'))\n",
        "model.add(Dense(10,activation='softmax'))\n",
        "\n",
        "model.compile(\n",
        "    optimizer='adam',\n",
        "    loss='sparse_categorical_crossentropy',\n",
        "    metrics=['accuracy']\n",
        ")\n",
        "\n",
        "model.fit(X_train,y_train,epochs=25)"
      ],
      "metadata": {
        "colab": {
          "base_uri": "https://localhost:8080/"
        },
        "id": "tCwCVeiXassn",
        "outputId": "a85e1163-a365-4e86-f24c-2959d30aa842"
      },
      "execution_count": null,
      "outputs": [
        {
          "output_type": "stream",
          "name": "stdout",
          "text": [
            "Epoch 1/25\n",
            "1875/1875 [==============================] - 8s 4ms/step - loss: 1.7289 - accuracy: 0.8692\n",
            "Epoch 2/25\n",
            "1875/1875 [==============================] - 7s 4ms/step - loss: 0.2846 - accuracy: 0.9302\n",
            "Epoch 3/25\n",
            "1875/1875 [==============================] - 7s 4ms/step - loss: 0.1946 - accuracy: 0.9476\n",
            "Epoch 4/25\n",
            "1875/1875 [==============================] - 7s 4ms/step - loss: 0.1631 - accuracy: 0.9533\n",
            "Epoch 5/25\n",
            "1875/1875 [==============================] - 8s 4ms/step - loss: 0.1446 - accuracy: 0.9586\n",
            "Epoch 6/25\n",
            "1875/1875 [==============================] - 7s 4ms/step - loss: 0.1344 - accuracy: 0.9628\n",
            "Epoch 7/25\n",
            "1875/1875 [==============================] - 7s 4ms/step - loss: 0.1275 - accuracy: 0.9648\n",
            "Epoch 8/25\n",
            "1875/1875 [==============================] - 7s 4ms/step - loss: 0.1148 - accuracy: 0.9692\n",
            "Epoch 9/25\n",
            "1875/1875 [==============================] - 7s 4ms/step - loss: 0.1032 - accuracy: 0.9707\n",
            "Epoch 10/25\n",
            "1875/1875 [==============================] - 7s 4ms/step - loss: 0.1103 - accuracy: 0.9711\n",
            "Epoch 11/25\n",
            "1875/1875 [==============================] - 7s 4ms/step - loss: 0.0962 - accuracy: 0.9734\n",
            "Epoch 12/25\n",
            "1875/1875 [==============================] - 7s 4ms/step - loss: 0.0870 - accuracy: 0.9758\n",
            "Epoch 13/25\n",
            "1875/1875 [==============================] - 7s 4ms/step - loss: 0.0948 - accuracy: 0.9742\n",
            "Epoch 14/25\n",
            "1875/1875 [==============================] - 7s 4ms/step - loss: 0.0838 - accuracy: 0.9772\n",
            "Epoch 15/25\n",
            "1875/1875 [==============================] - 7s 4ms/step - loss: 0.0886 - accuracy: 0.9781\n",
            "Epoch 16/25\n",
            "1875/1875 [==============================] - 7s 4ms/step - loss: 0.0775 - accuracy: 0.9800\n",
            "Epoch 17/25\n",
            "1875/1875 [==============================] - 7s 4ms/step - loss: 0.0774 - accuracy: 0.9797\n",
            "Epoch 18/25\n",
            "1875/1875 [==============================] - 7s 4ms/step - loss: 0.0751 - accuracy: 0.9806\n",
            "Epoch 19/25\n",
            "1875/1875 [==============================] - 7s 4ms/step - loss: 0.0714 - accuracy: 0.9821\n",
            "Epoch 20/25\n",
            "1875/1875 [==============================] - 7s 4ms/step - loss: 0.0718 - accuracy: 0.9816\n",
            "Epoch 21/25\n",
            "1875/1875 [==============================] - 7s 4ms/step - loss: 0.0684 - accuracy: 0.9827\n",
            "Epoch 22/25\n",
            "1875/1875 [==============================] - 7s 4ms/step - loss: 0.0622 - accuracy: 0.9842\n",
            "Epoch 23/25\n",
            "1875/1875 [==============================] - 7s 4ms/step - loss: 0.0659 - accuracy: 0.9840\n",
            "Epoch 24/25\n",
            "1875/1875 [==============================] - 10s 5ms/step - loss: 0.0601 - accuracy: 0.9852\n",
            "Epoch 25/25\n",
            "1875/1875 [==============================] - 7s 4ms/step - loss: 0.0659 - accuracy: 0.9850\n"
          ]
        },
        {
          "output_type": "execute_result",
          "data": {
            "text/plain": [
              "<keras.callbacks.History at 0x7fcdb3c27210>"
            ]
          },
          "metadata": {},
          "execution_count": 126
        }
      ]
    },
    {
      "cell_type": "markdown",
      "source": [
        "#Model Evaluation"
      ],
      "metadata": {
        "id": "Cnjm36-K8uke"
      }
    },
    {
      "cell_type": "code",
      "source": [
        "model.evaluate(X_test,y_test)"
      ],
      "metadata": {
        "colab": {
          "base_uri": "https://localhost:8080/"
        },
        "id": "Lo1XZiX66BDx",
        "outputId": "ece60b1b-bd68-47af-d557-308df8a68c70"
      },
      "execution_count": null,
      "outputs": [
        {
          "output_type": "stream",
          "name": "stdout",
          "text": [
            "313/313 [==============================] - 1s 2ms/step - loss: 0.2249 - accuracy: 0.9682\n"
          ]
        },
        {
          "output_type": "execute_result",
          "data": {
            "text/plain": [
              "[0.2248978316783905, 0.9682000279426575]"
            ]
          },
          "metadata": {},
          "execution_count": 127
        }
      ]
    },
    {
      "cell_type": "code",
      "source": [
        "plt.imshow(X_test[1])"
      ],
      "metadata": {
        "colab": {
          "base_uri": "https://localhost:8080/",
          "height": 283
        },
        "id": "neuKV91b8lh-",
        "outputId": "84c8a8fb-922c-415c-bab1-77ed304446a7"
      },
      "execution_count": null,
      "outputs": [
        {
          "output_type": "execute_result",
          "data": {
            "text/plain": [
              "<matplotlib.image.AxesImage at 0x7fcdb3acfc50>"
            ]
          },
          "metadata": {},
          "execution_count": 128
        },
        {
          "output_type": "display_data",
          "data": {
            "text/plain": [
              "<Figure size 432x288 with 1 Axes>"
            ],
            "image/png": "[encoded data removed]"
          },
          "metadata": {
            "needs_background": "light"
          }
        }
      ]
    },
    {
      "cell_type": "code",
      "source": [
        "prediction = model.predict(X_test)\n",
        "np.argmax(prediction[1])"
      ],
      "metadata": {
        "colab": {
          "base_uri": "https://localhost:8080/"
        },
        "id": "v9s9U4bB92z7",
        "outputId": "ebab2190-4bac-4895-a3f2-711853a8303a"
      },
      "execution_count": null,
      "outputs": [
        {
          "output_type": "stream",
          "name": "stdout",
          "text": [
            "313/313 [==============================] - 1s 2ms/step\n"
          ]
        },
        {
          "output_type": "execute_result",
          "data": {
            "text/plain": [
              "2"
            ]
          },
          "metadata": {},
          "execution_count": 129
        }
      ]
    },
    {
      "cell_type": "markdown",
      "source": [
        "##Test With new image"
      ],
      "metadata": {
        "id": "L_W19Di1Xtm2"
      }
    },
    {
      "cell_type": "code",
      "source": [
        "digit_img = Image.open('4.jpg') \n",
        "bw_img = digit_img.convert(mode='L')\n",
        "bw = bw_img.point(lambda x: 0 if x < 100 else 255, '1')\n",
        "bw_img.save('bw.jpg')\n",
        "\n",
        "read_img_data = cv2.imread('bw.jpg', cv2.IMREAD_GRAYSCALE) \n",
        "img_data = cv2.bitwise_not(read_img_data)\n",
        "data = cv2.resize(img_data,(28,28))\n",
        "\n",
        "plt.imshow(data)"
      ],
      "metadata": {
        "colab": {
          "base_uri": "https://localhost:8080/",
          "height": 283
        },
        "id": "nrUx5Ss7iHrW",
        "outputId": "edf902f5-2b04-4ec2-d881-8ca817e991ff"
      },
      "execution_count": null,
      "outputs": [
        {
          "output_type": "execute_result",
          "data": {
            "text/plain": [
              "<matplotlib.image.AxesImage at 0x7fcdae482790>"
            ]
          },
          "metadata": {},
          "execution_count": 147
        },
        {
          "output_type": "display_data",
          "data": {
            "text/plain": [
              "<Figure size 432x288 with 1 Axes>"
            ],
            "image/png": "[encoded data removed]"
          },
          "metadata": {
            "needs_background": "light"
          }
        }
      ]
    },
    {
      "cell_type": "code",
      "source": [
        "prediction = model.predict(data)\n",
        "np.argmax(prediction)"
      ],
      "metadata": {
        "colab": {
          "base_uri": "https://localhost:8080/"
        },
        "id": "yeUmSfF5jECT",
        "outputId": "58cb8abb-6bd2-451c-afbb-dcfe668ff645"
      },
      "execution_count": null,
      "outputs": [
        {
          "output_type": "stream",
          "name": "stdout",
          "text": [
            "1/1 [==============================] - 0s 21ms/step\n"
          ]
        },
        {
          "output_type": "execute_result",
          "data": {
            "text/plain": [
              "3"
            ]
          },
          "metadata": {},
          "execution_count": 148
        }
      ]
    },
    {
      "cell_type": "code",
      "source": [
        "img = Image.open('4.jpg') \n",
        "\n",
        "gray_img = img.convert(mode='L')\n",
        "\n",
        "resized_img = gray_img.resize((28,28))\n",
        "\n",
        "#display(resized_img)\n",
        "resized_img_data = np.asarray(resized_img)\n",
        "#print(resized_img_data)\n",
        "plt.imshow(resized_img_data)"
      ],
      "metadata": {
        "colab": {
          "base_uri": "https://localhost:8080/",
          "height": 283
        },
        "id": "oZX033LskCRI",
        "outputId": "9430d48a-f932-4b6c-9103-044ae9f4d74e"
      },
      "execution_count": null,
      "outputs": [
        {
          "output_type": "execute_result",
          "data": {
            "text/plain": [
              "<matplotlib.image.AxesImage at 0x7fcdae51b290>"
            ]
          },
          "metadata": {},
          "execution_count": 145
        },
        {
          "output_type": "display_data",
          "data": {
            "text/plain": [
              "<Figure size 432x288 with 1 Axes>"
            ],
            "image/png": "[encoded data removed]"
          },
          "metadata": {
            "needs_background": "light"
          }
        }
      ]
    },
    {
      "cell_type": "code",
      "source": [
        "prediction = model.predict(resized_img_data)\n",
        "np.argmax(prediction)"
      ],
      "metadata": {
        "colab": {
          "base_uri": "https://localhost:8080/"
        },
        "id": "DmRuN-WfowBi",
        "outputId": "d8d28804-e61a-4607-a130-40d3ea38091c"
      },
      "execution_count": null,
      "outputs": [
        {
          "output_type": "stream",
          "name": "stdout",
          "text": [
            "1/1 [==============================] - 0s 24ms/step\n"
          ]
        },
        {
          "output_type": "execute_result",
          "data": {
            "text/plain": [
              "8"
            ]
          },
          "metadata": {},
          "execution_count": 146
        }
      ]
    },
    {
      "cell_type": "code",
      "source": [
        ""
      ],
      "metadata": {
        "id": "QiqhR-ucvfeH"
      },
      "execution_count": null,
      "outputs": []
    }
  ]
}